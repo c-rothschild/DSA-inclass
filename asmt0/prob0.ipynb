{
 "cells": [
  {
   "cell_type": "code",
   "execution_count": 2,
   "id": "841da68e",
   "metadata": {},
   "outputs": [],
   "source": [
    "import numpy as np\n",
    "import scipy\n",
    "import matplotlib as plt\n",
    "import networkx as nx \n",
    "import sklearn\n",
    "import jupyterlab\n"
   ]
  },
  {
   "cell_type": "code",
   "execution_count": 5,
   "id": "2a367782",
   "metadata": {},
   "outputs": [
    {
     "name": "stdout",
     "output_type": "stream",
     "text": [
      "numpy version: 2.2.4\n",
      "scipy version: 1.15.2\n",
      "matplot verson: 3.10.0\n",
      "networkx version: 3.4.2\n",
      "sklearn version: 1.6.1\n",
      "jupyter version: 4.3.4\n"
     ]
    }
   ],
   "source": [
    "print(f\"numpy version: {np.__version__}\")\n",
    "print(f\"scipy version: {scipy.__version__}\")\n",
    "print(f\"matplot verson: {plt.__version__}\")\n",
    "print(f\"networkx version: {nx.__version__}\")\n",
    "print(f\"sklearn version: {sklearn.__version__}\")\n",
    "print(f\"jupyter version: {jupyterlab.__version__}\")"
   ]
  }
 ],
 "metadata": {
  "kernelspec": {
   "display_name": "DSA",
   "language": "python",
   "name": "python3"
  },
  "language_info": {
   "codemirror_mode": {
    "name": "ipython",
    "version": 3
   },
   "file_extension": ".py",
   "mimetype": "text/x-python",
   "name": "python",
   "nbconvert_exporter": "python",
   "pygments_lexer": "ipython3",
   "version": "3.13.2"
  }
 },
 "nbformat": 4,
 "nbformat_minor": 5
}
