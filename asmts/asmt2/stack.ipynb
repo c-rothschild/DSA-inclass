{
 "cells": [
  {
   "cell_type": "code",
   "execution_count": 15,
   "id": "a3dbe877",
   "metadata": {},
   "outputs": [],
   "source": [
    "class Stack:\n",
    "    def __init__(self):\n",
    "        self.stack = []\n",
    "\n",
    "    def push(self, item):\n",
    "        self.stack.append(item)\n",
    "    \n",
    "    def pop(self):\n",
    "        return self.stack.pop(-1)\n",
    "    \n",
    "    def peek(self):\n",
    "        return self.stack[-1]\n",
    "    \n",
    "    def len(self):\n",
    "        return len(self.stack)\n"
   ]
  },
  {
   "cell_type": "code",
   "execution_count": 16,
   "id": "83f97050",
   "metadata": {},
   "outputs": [],
   "source": [
    "def matching_brackets(str):\n",
    "    pairs = {\n",
    "        '{' : '}',\n",
    "        '[' : ']',\n",
    "        '<' : '>',\n",
    "        '(' : ')'\n",
    "    }\n",
    "    bracket_stack = Stack()\n",
    "    for c in str:\n",
    "        if c in pairs.keys():\n",
    "            bracket_stack.push(c)\n",
    "        elif c in pairs.values():\n",
    "            #if we see a closing bracket while we have an empty stack, test fails\n",
    "            if bracket_stack.len() == 0:\n",
    "                raise Exception('you failed')\n",
    "            #if we see a closing bracket and the most recent opening bracket doesn't match, test fails\n",
    "            elif pairs[bracket_stack.pop()] != c:\n",
    "                raise Exception('you failed')\n",
    "    #if any opening bracket hasn't been closed, test fails\n",
    "    if bracket_stack.len() != 0 :\n",
    "        raise Exception('you failed')\n",
    "    return True\n"
   ]
  },
  {
   "cell_type": "markdown",
   "id": "c5d9352e",
   "metadata": {},
   "source": [
    "This syntax checker has a time complexity of O(n), as there is one for loop. The repetitions of the for loop increases linearly as the length of the string increases, so our time complexity will be linear. The rest of the code is comprised of if/else statements, which do not impact the overall time complexity. "
   ]
  },
  {
   "cell_type": "code",
   "execution_count": 17,
   "id": "56962d44",
   "metadata": {},
   "outputs": [],
   "source": [
    "should_pass = [\n",
    "    '()',\n",
    "    '<<>>',\n",
    "    '(<{[<>]}>)',\n",
    "    '((<ggg>hhh)dddd)',\n",
    "    \"<help[I'm{trapped<in>a}bracket]factory>\"\n",
    "]\n",
    "\n",
    "\n",
    "should_fail = [\n",
    "    '<<>',\n",
    "    '[dog time>',\n",
    "    '<',\n",
    "    '( ( ( ( ( ( ( ( ( ) ] ) ) ) ) ) ) )'\n",
    "]"
   ]
  },
  {
   "cell_type": "code",
   "execution_count": 18,
   "id": "16ae6e15",
   "metadata": {},
   "outputs": [
    {
     "name": "stdout",
     "output_type": "stream",
     "text": [
      "no errors in the passing strings\n"
     ]
    }
   ],
   "source": [
    "success = True\n",
    "for item in should_pass:\n",
    "    matching_brackets(item)\n",
    "print('no errors in the passing strings')\n"
   ]
  },
  {
   "cell_type": "code",
   "execution_count": null,
   "id": "c792fb41",
   "metadata": {},
   "outputs": [
    {
     "ename": "Exception",
     "evalue": "you failed",
     "output_type": "error",
     "traceback": [
      "\u001b[31m---------------------------------------------------------------------------\u001b[39m",
      "\u001b[31mException\u001b[39m                                 Traceback (most recent call last)",
      "\u001b[36mCell\u001b[39m\u001b[36m \u001b[39m\u001b[32mIn[19]\u001b[39m\u001b[32m, line 2\u001b[39m\n\u001b[32m      1\u001b[39m \u001b[38;5;28;01mfor\u001b[39;00m item \u001b[38;5;129;01min\u001b[39;00m should_fail:\n\u001b[32m----> \u001b[39m\u001b[32m2\u001b[39m     matching_brackets(item)\n",
      "\u001b[36mCell\u001b[39m\u001b[36m \u001b[39m\u001b[32mIn[16]\u001b[39m\u001b[32m, line 21\u001b[39m, in \u001b[36mmatching_brackets\u001b[39m\u001b[34m(str)\u001b[39m\n\u001b[32m     19\u001b[39m \u001b[38;5;66;03m#if any opening bracket hasn't been closed, test fails\u001b[39;00m\n\u001b[32m     20\u001b[39m \u001b[38;5;28;01mif\u001b[39;00m bracket_stack.len() != \u001b[32m0\u001b[39m :\n\u001b[32m---> \u001b[39m\u001b[32m21\u001b[39m     \u001b[38;5;28;01mraise\u001b[39;00m \u001b[38;5;167;01mException\u001b[39;00m(\u001b[33m'\u001b[39m\u001b[33myou failed\u001b[39m\u001b[33m'\u001b[39m)\n\u001b[32m     22\u001b[39m \u001b[38;5;28;01mreturn\u001b[39;00m \u001b[38;5;28;01mTrue\u001b[39;00m\n",
      "\u001b[31mException\u001b[39m: you failed"
     ]
    }
   ],
   "source": [
    "failures = 0\n",
    "for item in should_fail:\n",
    "    try:\n",
    "        matching_brackets(item)\n",
    "    except:\n",
    "        failures+=1\n",
    "if failures == len(should_fail):\n",
    "    print(\"all failing strings failed successfully\")\n"
   ]
  }
 ],
 "metadata": {
  "kernelspec": {
   "display_name": "DSA",
   "language": "python",
   "name": "python3"
  },
  "language_info": {
   "codemirror_mode": {
    "name": "ipython",
    "version": 3
   },
   "file_extension": ".py",
   "mimetype": "text/x-python",
   "name": "python",
   "nbconvert_exporter": "python",
   "pygments_lexer": "ipython3",
   "version": "3.13.2"
  }
 },
 "nbformat": 4,
 "nbformat_minor": 5
}
