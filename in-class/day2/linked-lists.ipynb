{
 "cells": [
  {
   "cell_type": "markdown",
   "id": "50da24af",
   "metadata": {},
   "source": [
    "Big O, Big Omega, Big Theta\n",
    "Big O - Upper bound (if O(n), then O(n^2))\n",
    "Big Omega - Lower bound (if O(n^2), the O(n))\n",
    "Big Theta - Upper and lower bound (What people usually mean when talking about big O)"
   ]
  }
 ],
 "metadata": {
  "language_info": {
   "name": "python"
  }
 },
 "nbformat": 4,
 "nbformat_minor": 5
}
