{
  "metadata": {
    "kernelspec": {
      "name": "python",
      "display_name": "Python (Pyodide)",
      "language": "python"
    },
    "language_info": {
      "codemirror_mode": {
        "name": "python",
        "version": 3
      },
      "file_extension": ".py",
      "mimetype": "text/x-python",
      "name": "python",
      "nbconvert_exporter": "python",
      "pygments_lexer": "ipython3",
      "version": "3.8"
    }
  },
  "nbformat_minor": 5,
  "nbformat": 4,
  "cells": [
    {
      "id": "74b89930-263c-4167-82f1-f317ca03c4c6",
      "cell_type": "code",
      "source": "import random",
      "metadata": {
        "trusted": true
      },
      "outputs": [],
      "execution_count": 1
    },
    {
      "id": "367c2c81-344d-42cd-b96a-a5948b6d6235",
      "cell_type": "code",
      "source": "# How many principals/schools we have\nN = 5",
      "metadata": {
        "trusted": true
      },
      "outputs": [],
      "execution_count": 2
    },
    {
      "id": "c9cd7b4b-466c-4f5e-92db-ddb4a7a2a0b5",
      "cell_type": "code",
      "source": "\n# keep track of where each school ranks each principal\nschools = []\nfor i in range(N):\n    prefs = list(range(N))\n    random.shuffle(prefs)\n    schools.append(prefs)\n# keep track of where each principal ranks each school\nprincipals = []\nfor i in range(N):\n    test = list(range(N))\n    random.shuffle(prefs)\n    principals.append(prefs)",
      "metadata": {
        "trusted": true
      },
      "outputs": [],
      "execution_count": 3
    },
    {
      "id": "fb404e1f-cadf-4858-9b03-46418b61fb6b",
      "cell_type": "code",
      "source": "schools",
      "metadata": {
        "trusted": true
      },
      "outputs": [
        {
          "execution_count": 4,
          "output_type": "execute_result",
          "data": {
            "text/plain": "[[3, 4, 1, 0, 2],\n [2, 3, 4, 0, 1],\n [3, 0, 2, 1, 4],\n [3, 1, 4, 0, 2],\n [2, 3, 4, 0, 1]]"
          },
          "metadata": {}
        }
      ],
      "execution_count": 4
    },
    {
      "id": "dbb886dd-6684-4020-b139-418671e0b484",
      "cell_type": "code",
      "source": "principals",
      "metadata": {
        "trusted": true
      },
      "outputs": [
        {
          "execution_count": 5,
          "output_type": "execute_result",
          "data": {
            "text/plain": "[[2, 3, 4, 0, 1],\n [2, 3, 4, 0, 1],\n [2, 3, 4, 0, 1],\n [2, 3, 4, 0, 1],\n [2, 3, 4, 0, 1]]"
          },
          "metadata": {}
        }
      ],
      "execution_count": 5
    },
    {
      "id": "4484f074-8017-4d76-a20f-896f86173a0a",
      "cell_type": "code",
      "source": "def check_stability(sch, pri, match):\n    unstable_count = 0\n    for s1 in range(len(sch)):\n        for p1 in range(len(pri)):\n            s1_matches = [m for m in match if m[0] == s1]\n            p1_matches = [m for m in match if m[1] == p1]\n            p2 = s1_matches[0][1]\n            s2 = p1_matches[0][0]\n            # s1 and p2 are matched\n            # s2 and p1 are matched\n            if sch[s1].index(p1) < sch[s1].index(p2) and \\\n               pri[p1].index(s1) < pri[p1].index(s2):\n                unstable_count += 1\n    return unstable_count",
      "metadata": {
        "trusted": true
      },
      "outputs": [],
      "execution_count": 6
    },
    {
      "id": "3d33a0dc-295d-4976-8d35-e05568c91f79",
      "cell_type": "code",
      "source": "def gale_shapely(sch, pri):\n    match = []\n    while len(match) < len(sch):\n        matched_schools = [s for s, p in match]\n        unmatched_schools = [s for s in range(len(sch)) if s not in matched_schools]\n        \n        s1 = random.choice(unmatched_schools)\n        p1 = sch[s1].pop(0)\n\n        p1_matches = []\n        for m in match:\n            if m[1] == p1:\n                p1_matches.append(m)\n\n        if len(p1_matches) == 0:\n            match.append( (s1, p1) )\n        else:\n            s2, p1 = p1_matches[0]\n            p1_pref = pri[p1]\n            if p1_pref.index(s1) < p1_pref.index(s2):\n                match.remove( (s2, p1) )\n                match.append( (s1, p1) )\n            else:\n                pass\n        \n    return match",
      "metadata": {
        "trusted": true
      },
      "outputs": [],
      "execution_count": 7
    },
    {
      "id": "0fc93003-52dd-474a-beb2-a6f6af78b2cf",
      "cell_type": "code",
      "source": "def random_matching(sch,pri):\n    m1 = list(range(len(sch)))\n    m2 = list(range(len(sch)))\n    random.shuffle(m1)\n    random.shuffle(m2)\n    return list(zip(m1,m2))",
      "metadata": {
        "trusted": true
      },
      "outputs": [],
      "execution_count": 8
    },
    {
      "id": "7d2263cd-6700-4972-87c3-4abc7d35845f",
      "cell_type": "code",
      "source": "from copy import deepcopy",
      "metadata": {
        "trusted": true
      },
      "outputs": [],
      "execution_count": 9
    },
    {
      "id": "7b300f12-2238-491a-a2ec-6d3143daca75",
      "cell_type": "code",
      "source": "match_gs = gale_shapely([deepcopy(s) for s in schools], principals)\nmatch_random = random_matching([deepcopy(s) for s in schools], principals)",
      "metadata": {
        "trusted": true
      },
      "outputs": [],
      "execution_count": 10
    },
    {
      "id": "d20496f1-6685-4092-a303-162a0f362268",
      "cell_type": "code",
      "source": "match_gs",
      "metadata": {
        "trusted": true
      },
      "outputs": [
        {
          "execution_count": 11,
          "output_type": "execute_result",
          "data": {
            "text/plain": "[(4, 2), (2, 3), (3, 1), (0, 4), (1, 0)]"
          },
          "metadata": {}
        }
      ],
      "execution_count": 11
    },
    {
      "id": "06d3c15b-9adf-416e-94da-634b1c6bc381",
      "cell_type": "code",
      "source": "match_random",
      "metadata": {
        "trusted": true
      },
      "outputs": [
        {
          "execution_count": 12,
          "output_type": "execute_result",
          "data": {
            "text/plain": "[(4, 3), (1, 0), (0, 2), (3, 4), (2, 1)]"
          },
          "metadata": {}
        }
      ],
      "execution_count": 12
    },
    {
      "id": "3a94da33-9f3a-42f7-846e-e45ec57816bd",
      "cell_type": "code",
      "source": "schools",
      "metadata": {
        "trusted": true
      },
      "outputs": [
        {
          "execution_count": 13,
          "output_type": "execute_result",
          "data": {
            "text/plain": "[[3, 4, 1, 0, 2],\n [2, 3, 4, 0, 1],\n [3, 0, 2, 1, 4],\n [3, 1, 4, 0, 2],\n [2, 3, 4, 0, 1]]"
          },
          "metadata": {}
        }
      ],
      "execution_count": 13
    },
    {
      "id": "5b26bfba-a81e-48fb-a1f7-c83d5892d933",
      "cell_type": "code",
      "source": "principals",
      "metadata": {
        "trusted": true
      },
      "outputs": [
        {
          "execution_count": 14,
          "output_type": "execute_result",
          "data": {
            "text/plain": "[[2, 3, 4, 0, 1],\n [2, 3, 4, 0, 1],\n [2, 3, 4, 0, 1],\n [2, 3, 4, 0, 1],\n [2, 3, 4, 0, 1]]"
          },
          "metadata": {}
        }
      ],
      "execution_count": 14
    },
    {
      "id": "2f875e4b-d291-4266-ab40-3a6f3d90644f",
      "cell_type": "code",
      "source": "def equity_score(sch, pri, matches):\n    school_dissat = 0\n    principal_dissat = 0\n    for m in matches:\n        s = m[0]\n        p = m[1]\n        school_dissat += sch[s].index(p)\n        principal_dissat += pri[p].index(s)\n    return (school_dissat - principal_dissat) / len(pri)",
      "metadata": {
        "trusted": true
      },
      "outputs": [],
      "execution_count": 15
    },
    {
      "id": "32108dd4-6827-470d-b370-81059bb14f6c",
      "cell_type": "code",
      "source": "equity_score(schools, principals, match_gs)",
      "metadata": {
        "trusted": true
      },
      "outputs": [
        {
          "execution_count": 16,
          "output_type": "execute_result",
          "data": {
            "text/plain": "-1.0"
          },
          "metadata": {}
        }
      ],
      "execution_count": 16
    },
    {
      "id": "1155f8c3-8319-4019-a0aa-b1c9d757abd8",
      "cell_type": "code",
      "source": "check_stability(schools, principals, match_gs)",
      "metadata": {
        "trusted": true
      },
      "outputs": [
        {
          "execution_count": 17,
          "output_type": "execute_result",
          "data": {
            "text/plain": "0"
          },
          "metadata": {}
        }
      ],
      "execution_count": 17
    },
    {
      "id": "80c4bf03-3be6-4be2-8917-58426edfec08",
      "cell_type": "code",
      "source": "equity_score(schools, principals, match_random)",
      "metadata": {
        "trusted": true
      },
      "outputs": [
        {
          "execution_count": 18,
          "output_type": "execute_result",
          "data": {
            "text/plain": "0.6"
          },
          "metadata": {}
        }
      ],
      "execution_count": 18
    },
    {
      "id": "c3c450c3-249e-4d53-a98a-604be3cd0927",
      "cell_type": "code",
      "source": "check_stability(schools, principals, match_random)",
      "metadata": {
        "trusted": true
      },
      "outputs": [
        {
          "execution_count": 19,
          "output_type": "execute_result",
          "data": {
            "text/plain": "6"
          },
          "metadata": {}
        }
      ],
      "execution_count": 19
    },
    {
      "id": "7857153b-c84c-491c-ae58-1540c6b2ad85",
      "cell_type": "code",
      "source": "",
      "metadata": {
        "trusted": true
      },
      "outputs": [],
      "execution_count": null
    }
  ]
}